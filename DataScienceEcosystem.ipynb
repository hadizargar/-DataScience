{
 "cells": [
  {
   "cell_type": "markdown",
   "id": "183f4fe3-b872-417c-9022-d03c2822afc6",
   "metadata": {},
   "source": [
    "# Data Science Tools and Ecosystem"
   ]
  },
  {
   "cell_type": "markdown",
   "id": "2492c9cf-47d5-49a1-8f0a-aa12c43aa4a4",
   "metadata": {},
   "source": [
    "In this notebook, Data Science Tools and Ecosystem are summarized."
   ]
  },
  {
   "cell_type": "markdown",
   "id": "c19dee2e-9868-4c91-bdfe-2a4ff53a6cb5",
   "metadata": {},
   "source": [
    "Some of the popular languages that Data Scientists use are:\n",
    "1. Python\n",
    "2. R\n",
    "3. Java"
   ]
  },
  {
   "cell_type": "markdown",
   "id": "4ddd9702-0947-4166-9ab8-c4b6f72b873e",
   "metadata": {},
   "source": [
    "Some of the commonly used libraries used by Data Scientists include:\n",
    "+ Panda\n",
    "+ Matplolib\n",
    "+ SciKit-learn"
   ]
  },
  {
   "cell_type": "markdown",
   "id": "43b9fffd-c262-44cb-a5d6-803c097ed4fc",
   "metadata": {},
   "source": [
    "|Data Science Tools (development environment)|\n",
    "| ------------------------------------------ |\n",
    "| Jupyter IDE |\n",
    "| RStudio |\n",
    "| Microsoft Visual Studio |"
   ]
  },
  {
   "cell_type": "markdown",
   "id": "e0877cd8-d018-4083-9497-fe90525caa4a",
   "metadata": {},
   "source": [
    "### Below are a few examples of evaluating arithmetic expressions in Python"
   ]
  },
  {
   "cell_type": "code",
   "execution_count": null,
   "id": "38132175-6fcb-4077-84d9-265cbdbb6e42",
   "metadata": {},
   "outputs": [],
   "source": [
    "# This a simple arithmetic expression to mutiply then add integers\n",
    "(3*4)+5"
   ]
  },
  {
   "cell_type": "code",
   "execution_count": 3,
   "id": "647c6ea4-4ff6-4cf1-aa0b-7dccaedfaec9",
   "metadata": {},
   "outputs": [
    {
     "name": "stdout",
     "output_type": "stream",
     "text": [
      "3.3333333333333335\n"
     ]
    }
   ],
   "source": [
    "# This will convert 200 minutes to hours by diving by 60\n",
    "minutes=200\n",
    "houres=minutes/60\n",
    "print(houres)"
   ]
  },
  {
   "cell_type": "markdown",
   "id": "4e65d29e-3ad9-41a6-89af-cb28a0946d70",
   "metadata": {},
   "source": [
    "**Objectives:**\n",
    "+ List popular languages for Data Science\n",
    "+ Some of the commonly used libraries\n",
    "+ Data Science Tools (development environment)\n",
    "+ Examples of arithmetic expressions in Python"
   ]
  },
  {
   "cell_type": "markdown",
   "id": "7b42c849-722b-4b69-8496-97453a769938",
   "metadata": {},
   "source": [
    "## Author \n",
    "hadi zargar"
   ]
  },
  {
   "cell_type": "code",
   "execution_count": null,
   "id": "a7a44c6f-4c2c-4f1a-b74a-9056a7a1cf4f",
   "metadata": {},
   "outputs": [],
   "source": []
  }
 ],
 "metadata": {
  "kernelspec": {
   "display_name": "Python 3 (ipykernel)",
   "language": "python",
   "name": "python3"
  },
  "language_info": {
   "codemirror_mode": {
    "name": "ipython",
    "version": 3
   },
   "file_extension": ".py",
   "mimetype": "text/x-python",
   "name": "python",
   "nbconvert_exporter": "python",
   "pygments_lexer": "ipython3",
   "version": "3.11.9"
  }
 },
 "nbformat": 4,
 "nbformat_minor": 5
}
